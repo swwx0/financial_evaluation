{
  "nbformat": 4,
  "nbformat_minor": 0,
  "metadata": {
    "colab": {
      "name": "Untitled12.ipynb",
      "provenance": [],
      "authorship_tag": "ABX9TyN9ofw7V3CjzOo3tgXwpFVC",
      "include_colab_link": true
    },
    "kernelspec": {
      "name": "python3",
      "display_name": "Python 3"
    },
    "language_info": {
      "name": "python"
    }
  },
  "cells": [
    {
      "cell_type": "markdown",
      "metadata": {
        "id": "view-in-github",
        "colab_type": "text"
      },
      "source": [
        "<a href=\"https://colab.research.google.com/github/swwx0/financial_evaluation/blob/main/Test%20Scraping.ipynb\" target=\"_parent\"><img src=\"https://colab.research.google.com/assets/colab-badge.svg\" alt=\"Open In Colab\"/></a>"
      ]
    },
    {
      "cell_type": "markdown",
      "source": [
        "# Data Scraping"
      ],
      "metadata": {
        "id": "IOxV1MCPoGAY"
      }
    },
    {
      "cell_type": "code",
      "source": [
        "from bs4 import BeautifulSoup\n",
        "import requests\n",
        "import pandas as pd\n",
        "\n",
        "headers={'User-Agent': 'Mozilla/5.0 (Windows NT 10.0; Win64; x64) AppleWebKit/537.36 (KHTML, like Gecko) Chrome/71.0.3578.98 Safari/537.36'}\n",
        "stockSymbol = 'MSFT'"
      ],
      "metadata": {
        "id": "mosIytmMsHoH"
      },
      "execution_count": null,
      "outputs": []
    },
    {
      "cell_type": "markdown",
      "source": [
        "## Statistics Panel Test"
      ],
      "metadata": {
        "id": "6sDkTx4qtgTM"
      }
    },
    {
      "cell_type": "code",
      "execution_count": null,
      "metadata": {
        "id": "b4S91h3IiN02"
      },
      "outputs": [],
      "source": [
        "url = 'https://finance.yahoo.com/quote/'+ stockSymbol + '/key-statistics?p=' + stockSymbol\n",
        "page = requests.get(url, headers=headers, timeout=5).text \n",
        "#print(resp)"
      ]
    },
    {
      "cell_type": "code",
      "source": [
        "soup = BeautifulSoup(page, 'html.parser')\n",
        "stock_data = soup.find_all('table')\n",
        "#print(stock_data[0])\n",
        "stockDict = {}\n",
        "\n",
        "for table in stock_data:\n",
        "    trs = table.find_all('tr')\n",
        "    for tr in trs:\n",
        "        tds = tr.find_all('td')\n",
        "        if len(tds) > 0:\n",
        "            stockDict[tds[0].get_text()] = [tds[1].get_text()]\n",
        "\n",
        "stock_sum_df = pd.DataFrame(data=stockDict)"
      ],
      "metadata": {
        "id": "0mIr8Yg-qvg0"
      },
      "execution_count": null,
      "outputs": []
    },
    {
      "cell_type": "code",
      "source": [
        "stock_sum_df_test = stock_sum_df.copy(deep=True)\n",
        "result = pd.concat([stock_sum_df_test,stock_sum_df])\n",
        "result\n",
        "#print(list(stock_sum_df))\n",
        "#print(len(list(stock_sum_df)))"
      ],
      "metadata": {
        "colab": {
          "base_uri": "https://localhost:8080/",
          "height": 323
        },
        "id": "skdFaltisT93",
        "outputId": "0f6bdc0d-2390-4809-ecde-0d9555e569a5"
      },
      "execution_count": null,
      "outputs": [
        {
          "output_type": "execute_result",
          "data": {
            "text/html": [
              "<div>\n",
              "<style scoped>\n",
              "    .dataframe tbody tr th:only-of-type {\n",
              "        vertical-align: middle;\n",
              "    }\n",
              "\n",
              "    .dataframe tbody tr th {\n",
              "        vertical-align: top;\n",
              "    }\n",
              "\n",
              "    .dataframe thead th {\n",
              "        text-align: right;\n",
              "    }\n",
              "</style>\n",
              "<table border=\"1\" class=\"dataframe\">\n",
              "  <thead>\n",
              "    <tr style=\"text-align: right;\">\n",
              "      <th></th>\n",
              "      <th>Market Cap (intraday)</th>\n",
              "      <th>Enterprise Value</th>\n",
              "      <th>Trailing P/E</th>\n",
              "      <th>Forward P/E</th>\n",
              "      <th>PEG Ratio (5 yr expected)</th>\n",
              "      <th>Price/Sales (ttm)</th>\n",
              "      <th>Price/Book (mrq)</th>\n",
              "      <th>Enterprise Value/Revenue</th>\n",
              "      <th>Enterprise Value/EBITDA</th>\n",
              "      <th>Beta (5Y Monthly)</th>\n",
              "      <th>52-Week Change 3</th>\n",
              "      <th>S&amp;P500 52-Week Change 3</th>\n",
              "      <th>52 Week High 3</th>\n",
              "      <th>52 Week Low 3</th>\n",
              "      <th>50-Day Moving Average 3</th>\n",
              "      <th>200-Day Moving Average 3</th>\n",
              "      <th>Avg Vol (3 month) 3</th>\n",
              "      <th>Avg Vol (10 day) 3</th>\n",
              "      <th>Shares Outstanding 5</th>\n",
              "      <th>Implied Shares Outstanding 6</th>\n",
              "      <th>Float 8</th>\n",
              "      <th>% Held by Insiders 1</th>\n",
              "      <th>% Held by Institutions 1</th>\n",
              "      <th>Shares Short (Nov 29, 2021) 4</th>\n",
              "      <th>Short Ratio (Nov 29, 2021) 4</th>\n",
              "      <th>Short % of Float (Nov 29, 2021) 4</th>\n",
              "      <th>Short % of Shares Outstanding (Nov 29, 2021) 4</th>\n",
              "      <th>Shares Short (prior month Oct 28, 2021) 4</th>\n",
              "      <th>Forward Annual Dividend Rate 4</th>\n",
              "      <th>Forward Annual Dividend Yield 4</th>\n",
              "      <th>Trailing Annual Dividend Rate 3</th>\n",
              "      <th>Trailing Annual Dividend Yield 3</th>\n",
              "      <th>5 Year Average Dividend Yield 4</th>\n",
              "      <th>Payout Ratio 4</th>\n",
              "      <th>Dividend Date 3</th>\n",
              "      <th>Ex-Dividend Date 4</th>\n",
              "      <th>Last Split Factor 2</th>\n",
              "      <th>Last Split Date 3</th>\n",
              "      <th>Fiscal Year Ends</th>\n",
              "      <th>Most Recent Quarter (mrq)</th>\n",
              "      <th>Profit Margin</th>\n",
              "      <th>Operating Margin (ttm)</th>\n",
              "      <th>Return on Assets (ttm)</th>\n",
              "      <th>Return on Equity (ttm)</th>\n",
              "      <th>Revenue (ttm)</th>\n",
              "      <th>Revenue Per Share (ttm)</th>\n",
              "      <th>Quarterly Revenue Growth (yoy)</th>\n",
              "      <th>Gross Profit (ttm)</th>\n",
              "      <th>EBITDA</th>\n",
              "      <th>Net Income Avi to Common (ttm)</th>\n",
              "      <th>Diluted EPS (ttm)</th>\n",
              "      <th>Quarterly Earnings Growth (yoy)</th>\n",
              "      <th>Total Cash (mrq)</th>\n",
              "      <th>Total Cash Per Share (mrq)</th>\n",
              "      <th>Total Debt (mrq)</th>\n",
              "      <th>Total Debt/Equity (mrq)</th>\n",
              "      <th>Current Ratio (mrq)</th>\n",
              "      <th>Book Value Per Share (mrq)</th>\n",
              "      <th>Operating Cash Flow (ttm)</th>\n",
              "      <th>Levered Free Cash Flow (ttm)</th>\n",
              "    </tr>\n",
              "  </thead>\n",
              "  <tbody>\n",
              "    <tr>\n",
              "      <th>0</th>\n",
              "      <td>2.57T</td>\n",
              "      <td>2.50T</td>\n",
              "      <td>38.32</td>\n",
              "      <td>37.45</td>\n",
              "      <td>2.91</td>\n",
              "      <td>14.75</td>\n",
              "      <td>16.92</td>\n",
              "      <td>14.21</td>\n",
              "      <td>27.81</td>\n",
              "      <td>0.87</td>\n",
              "      <td>59.92%</td>\n",
              "      <td>29.19%</td>\n",
              "      <td>349.67</td>\n",
              "      <td>211.94</td>\n",
              "      <td>322.62</td>\n",
              "      <td>281.71</td>\n",
              "      <td>25.94M</td>\n",
              "      <td>32.2M</td>\n",
              "      <td>7.51B</td>\n",
              "      <td>N/A</td>\n",
              "      <td>7.5B</td>\n",
              "      <td>0.07%</td>\n",
              "      <td>71.88%</td>\n",
              "      <td>40.88M</td>\n",
              "      <td>1.68</td>\n",
              "      <td>0.54%</td>\n",
              "      <td>0.54%</td>\n",
              "      <td>49.33M</td>\n",
              "      <td>2.48</td>\n",
              "      <td>0.72%</td>\n",
              "      <td>2.30</td>\n",
              "      <td>0.67%</td>\n",
              "      <td>1.42</td>\n",
              "      <td>25.06%</td>\n",
              "      <td>Mar 09, 2022</td>\n",
              "      <td>Feb 15, 2022</td>\n",
              "      <td>2:1</td>\n",
              "      <td>Feb 17, 2003</td>\n",
              "      <td>Jun 29, 2021</td>\n",
              "      <td>Sep 29, 2021</td>\n",
              "      <td>38.51%</td>\n",
              "      <td>42.14%</td>\n",
              "      <td>14.59%</td>\n",
              "      <td>49.30%</td>\n",
              "      <td>176.25B</td>\n",
              "      <td>23.40</td>\n",
              "      <td>22.00%</td>\n",
              "      <td>115.86B</td>\n",
              "      <td>85.75B</td>\n",
              "      <td>67.88B</td>\n",
              "      <td>8.94</td>\n",
              "      <td>47.60%</td>\n",
              "      <td>130.58B</td>\n",
              "      <td>17.39</td>\n",
              "      <td>78.93B</td>\n",
              "      <td>51.94</td>\n",
              "      <td>2.16</td>\n",
              "      <td>20.24</td>\n",
              "      <td>81.95B</td>\n",
              "      <td>49.82B</td>\n",
              "    </tr>\n",
              "    <tr>\n",
              "      <th>0</th>\n",
              "      <td>2.57T</td>\n",
              "      <td>2.50T</td>\n",
              "      <td>38.32</td>\n",
              "      <td>37.45</td>\n",
              "      <td>2.91</td>\n",
              "      <td>14.75</td>\n",
              "      <td>16.92</td>\n",
              "      <td>14.21</td>\n",
              "      <td>27.81</td>\n",
              "      <td>0.87</td>\n",
              "      <td>59.92%</td>\n",
              "      <td>29.19%</td>\n",
              "      <td>349.67</td>\n",
              "      <td>211.94</td>\n",
              "      <td>322.62</td>\n",
              "      <td>281.71</td>\n",
              "      <td>25.94M</td>\n",
              "      <td>32.2M</td>\n",
              "      <td>7.51B</td>\n",
              "      <td>N/A</td>\n",
              "      <td>7.5B</td>\n",
              "      <td>0.07%</td>\n",
              "      <td>71.88%</td>\n",
              "      <td>40.88M</td>\n",
              "      <td>1.68</td>\n",
              "      <td>0.54%</td>\n",
              "      <td>0.54%</td>\n",
              "      <td>49.33M</td>\n",
              "      <td>2.48</td>\n",
              "      <td>0.72%</td>\n",
              "      <td>2.30</td>\n",
              "      <td>0.67%</td>\n",
              "      <td>1.42</td>\n",
              "      <td>25.06%</td>\n",
              "      <td>Mar 09, 2022</td>\n",
              "      <td>Feb 15, 2022</td>\n",
              "      <td>2:1</td>\n",
              "      <td>Feb 17, 2003</td>\n",
              "      <td>Jun 29, 2021</td>\n",
              "      <td>Sep 29, 2021</td>\n",
              "      <td>38.51%</td>\n",
              "      <td>42.14%</td>\n",
              "      <td>14.59%</td>\n",
              "      <td>49.30%</td>\n",
              "      <td>176.25B</td>\n",
              "      <td>23.40</td>\n",
              "      <td>22.00%</td>\n",
              "      <td>115.86B</td>\n",
              "      <td>85.75B</td>\n",
              "      <td>67.88B</td>\n",
              "      <td>8.94</td>\n",
              "      <td>47.60%</td>\n",
              "      <td>130.58B</td>\n",
              "      <td>17.39</td>\n",
              "      <td>78.93B</td>\n",
              "      <td>51.94</td>\n",
              "      <td>2.16</td>\n",
              "      <td>20.24</td>\n",
              "      <td>81.95B</td>\n",
              "      <td>49.82B</td>\n",
              "    </tr>\n",
              "  </tbody>\n",
              "</table>\n",
              "</div>"
            ],
            "text/plain": [
              "  Market Cap (intraday)   ... Levered Free Cash Flow (ttm)\n",
              "0                  2.57T  ...                       49.82B\n",
              "0                  2.57T  ...                       49.82B\n",
              "\n",
              "[2 rows x 60 columns]"
            ]
          },
          "metadata": {},
          "execution_count": 6
        }
      ]
    },
    {
      "cell_type": "markdown",
      "source": [
        "## Summary Panel Test"
      ],
      "metadata": {
        "id": "E7v5cks7t7DY"
      }
    },
    {
      "cell_type": "code",
      "source": [
        "\n",
        "url2 = 'https://finance.yahoo.com/quote/'+stockSymbol+'?p='+stockSymbol\n",
        "page = requests.get(url2, headers=headers, timeout=5).text \n",
        "\n",
        "soup = BeautifulSoup(page, 'html.parser')\n",
        "stock_data2 = soup.find_all('table')\n",
        "print(stock_data2[0])\n",
        "stockDict2 = {}\n",
        "\n",
        "for table in stock_data2:\n",
        "    trs = table.find_all('tr')\n",
        "    for tr in trs:\n",
        "        tds = tr.find_all('td')\n",
        "        if len(tds) > 0:\n",
        "            stockDict2[tds[0].get_text()] = [tds[1].get_text()]\n",
        "\n",
        "stock_sum_df2 = pd.DataFrame(data=stockDict2)\n",
        "\n"
      ],
      "metadata": {
        "colab": {
          "base_uri": "https://localhost:8080/"
        },
        "id": "AyS2dKUmt-mh",
        "outputId": "5e9baad5-fdfa-4b6b-d9b9-d879d885240f"
      },
      "execution_count": null,
      "outputs": [
        {
          "output_type": "stream",
          "name": "stdout",
          "text": [
            "<table class=\"W(100%)\" data-reactid=\"91\"><tbody data-reactid=\"92\"><tr class=\"Bxz(bb) Bdbw(1px) Bdbs(s) Bdc($seperatorColor) H(36px) \" data-reactid=\"93\"><td class=\"C($primaryColor) W(51%)\" data-reactid=\"94\"><span data-reactid=\"95\">Previous Close</span></td><td class=\"Ta(end) Fw(600) Lh(14px)\" data-reactid=\"96\" data-test=\"PREV_CLOSE-value\">333.10</td></tr><tr class=\"Bxz(bb) Bdbw(1px) Bdbs(s) Bdc($seperatorColor) H(36px) \" data-reactid=\"97\"><td class=\"C($primaryColor) W(51%)\" data-reactid=\"98\"><span data-reactid=\"99\">Open</span></td><td class=\"Ta(end) Fw(600) Lh(14px)\" data-reactid=\"100\" data-test=\"OPEN-value\">334.98</td></tr><tr class=\"Bxz(bb) Bdbw(1px) Bdbs(s) Bdc($seperatorColor) H(36px) \" data-reactid=\"101\"><td class=\"C($primaryColor) W(51%)\" data-reactid=\"102\"><span data-reactid=\"103\">Bid</span></td><td class=\"Ta(end) Fw(600) Lh(14px)\" data-reactid=\"104\" data-test=\"BID-value\">342.40 x 1000</td></tr><tr class=\"Bxz(bb) Bdbw(1px) Bdbs(s) Bdc($seperatorColor) H(36px) \" data-reactid=\"105\"><td class=\"C($primaryColor) W(51%)\" data-reactid=\"106\"><span data-reactid=\"107\">Ask</span></td><td class=\"Ta(end) Fw(600) Lh(14px)\" data-reactid=\"108\" data-test=\"ASK-value\">342.56 x 1100</td></tr><tr class=\"Bxz(bb) Bdbw(1px) Bdbs(s) Bdc($seperatorColor) H(36px) \" data-reactid=\"109\"><td class=\"C($primaryColor) W(51%)\" data-reactid=\"110\"><span data-reactid=\"111\">Day's Range</span></td><td class=\"Ta(end) Fw(600) Lh(14px)\" data-reactid=\"112\" data-test=\"DAYS_RANGE-value\">334.80 - 343.00</td></tr><tr class=\"Bxz(bb) Bdbw(1px) Bdbs(s) Bdc($seperatorColor) H(36px) \" data-reactid=\"113\"><td class=\"C($primaryColor) W(51%)\" data-reactid=\"114\"><span data-reactid=\"115\">52 Week Range</span></td><td class=\"Ta(end) Fw(600) Lh(14px)\" data-reactid=\"116\" data-test=\"FIFTY_TWO_WK_RANGE-value\">211.94 - 349.67</td></tr><tr class=\"Bxz(bb) Bdbw(1px) Bdbs(s) Bdc($seperatorColor) H(36px) \" data-reactid=\"117\"><td class=\"C($primaryColor) W(51%)\" data-reactid=\"118\"><span data-reactid=\"119\">Volume</span></td><td class=\"Ta(end) Fw(600) Lh(14px)\" data-reactid=\"120\" data-test=\"TD_VOLUME-value\"><fin-streamer active=\"\" data-dfield=\"longFmt\" data-field=\"regularMarketVolume\" data-pricehint=\"2\" data-reactid=\"121\" data-symbol=\"MSFT\" data-trend=\"none\" value=\"38,095,694\">38,095,694</fin-streamer></td></tr><tr class=\"Bxz(bb) Bdbw(1px) Bdbs(s) Bdc($seperatorColor) H(36px) Bdbw(0)! \" data-reactid=\"122\"><td class=\"C($primaryColor) W(51%)\" data-reactid=\"123\"><span data-reactid=\"124\">Avg. Volume</span></td><td class=\"Ta(end) Fw(600) Lh(14px)\" data-reactid=\"125\" data-test=\"AVERAGE_VOLUME_3MONTH-value\">25,897,317</td></tr></tbody></table>\n"
          ]
        }
      ]
    },
    {
      "cell_type": "code",
      "source": [
        "stock_sum_df2"
      ],
      "metadata": {
        "id": "6o3smXyXvrCT"
      },
      "execution_count": null,
      "outputs": []
    },
    {
      "cell_type": "markdown",
      "source": [
        "##Stock symbol extraction and statistics scraping\n",
        "  (csv & xlsx files as output)"
      ],
      "metadata": {
        "id": "4Flk6SWbjmkg"
      }
    },
    {
      "cell_type": "code",
      "source": [
        "#Stock Symbol export\n",
        "\n",
        "L_ext = [\"0\",\"100\",\"200\",\"300\",\"400\",\"500\"]\n",
        "stockDict3 = {}\n",
        "\n",
        "for x in L_ext :\n",
        "  url = \"https://finance.yahoo.com/screener/predefined/ms_technology?count=100&offset=\"+x\n",
        "  page = requests.get(url, headers=headers, timeout=5).text \n",
        "  soup = BeautifulSoup(page, 'html.parser')\n",
        "  stock_data3 = soup.find_all('table')\n",
        "  for table in stock_data3:\n",
        "    trs = table.find_all('tr')\n",
        "    for tr in trs:\n",
        "        tds = tr.find_all('td')\n",
        "        if len(tds) > 0:\n",
        "            stockDict3[tds[0].get_text()] = [tds[1].get_text()]\n",
        "  \n",
        "stock_sum_df3 = pd.DataFrame(data=stockDict3)\n",
        "L_st_symb = list(stock_sum_df3)\n",
        "print(L_st_symb)\n",
        "len(L_st_symb)\n"
      ],
      "metadata": {
        "colab": {
          "base_uri": "https://localhost:8080/"
        },
        "id": "jM2UWfkLfjGK",
        "outputId": "4832f176-f79d-4b66-be9b-12df50f1655d"
      },
      "execution_count": null,
      "outputs": [
        {
          "output_type": "stream",
          "name": "stdout",
          "text": [
            "['AAPL', 'MSFT', 'NVDA', 'TSM', 'ASML', 'AVGO', 'ADBE', 'ACN', 'CSCO', 'ORCL', 'CRM', 'INTC', 'QCOM', 'INTU', 'TXN', 'SHOP', 'AMD', 'SAP', 'SONY', 'AMAT', 'NOW', 'IBM', 'SNOW', 'INFY', 'LRCX', 'MU', 'ADI', 'TEAM', 'UBER', 'SQ', 'MRVL', 'WDAY', 'FISV', 'FIS', 'COIN', 'ADSK', 'ZM', 'KLAC', 'NXPI', 'FTNT', 'SNPS', 'PANW', 'DDOG', 'TEL', 'WIT', 'CDNS', 'VMW', 'XLNX', 'APH', 'CRWD', 'MCHP', 'CTSH', 'MSI', 'ZS', 'STM', 'NET', 'ANET', 'DELL', 'U', 'HPQ', 'PLTR', 'EPAM', 'ERIC', 'KEYS', 'OKTA', 'ANSS', 'NOK', 'APP', 'GFS', 'HUBS', 'GLW', 'ZBRA', 'DOCU', 'DIDI', 'UMC', 'AFRM', 'VRSN', 'CAJ', 'ON', 'FTV', 'TER', 'CDW', 'IT', 'BILL', 'GRMN', 'ZI', 'SWKS', 'PAYC', 'STX', 'MPWR', 'PATH', 'GIB', 'TRMB', 'TYL', 'BR', 'SSNC', 'NTAP', 'XM', 'TDY', 'HPE', 'UI', 'AKAM', 'NICE', 'RNG', 'NUAN', 'ENTG', 'SPLK', 'WDC', 'TOST', 'CFLT', 'FLT', 'DT', 'QRVO', 'CLVT', 'ASX', 'CDAY', 'NLOK', 'CHKP', 'HOOD', 'ASAN', 'HCP', 'AUR', 'PTC', 'FFIV', 'SEDG', 'LOGI', 'BSY', 'S', 'CGNX', 'LYFT', 'GTLB', 'MNDY', 'BKI', 'OTEX', 'ZEN', 'PCTY', 'JKHY', 'GDDY', 'WOLF', 'AVLR', 'LDOS', 'COUP', 'FICO', 'CIEN', 'GLOB', 'ESTC', 'JNPR', 'CTXS', 'PCOR', 'SYNA', 'SNX', 'INFA', 'AZPN', 'YMM', 'LSCC', 'G', 'MANH', 'DAVA', 'DLO', 'SMAR', 'DLB', 'DBX', 'JBL', 'GWRE', 'FSLR', 'PSTG', 'DOX', 'MQ', 'ST', 'CNXC', 'IPGP', 'MKSI', 'ARW', 'PEGA', 'DNB', 'WIX', 'TIXT', 'PAGS', 'FLEX', 'DOCN', 'IS', 'SLAB', 'TWKS', 'DXC', 'LITE', 'NVEI', 'LFUS', 'IIVI', 'OLED', 'FRSH', 'AZTA', 'AMBA', 'NEWR', 'CCCS', 'LPL', 'RUN', 'CYBR', 'SWCH', 'PLAN', 'COHR', 'DSGX', 'WK', 'NTNX', 'ALGM', 'MSTR', 'BL', 'ASGN', 'NOVT', 'BRZE', 'CACI', 'BMBL', 'EEFT', 'LSPD', 'TENB', 'LAZR', 'WEX', 'ALTR', 'NATI', 'NCNO', 'MXL', 'SRAD', 'SMTC', 'MIME', 'CCMP', 'QLYS', 'AMKR', 'POWI', 'CRCT', 'ROG', 'MTSI', 'BB', 'CRUS', 'VRNS', 'VICR', 'NCR', 'DV', 'VNT', 'PYCR', 'SPSC', 'STNE', 'ATC', 'CDK', 'MCFE', 'FOUR', 'CZOO', 'SAIC', 'ALIT', 'TDC', 'TASK', 'FSLY', 'QTWO', 'DIOD', 'EXLS', 'XRX', 'ONTO', 'JAMF', 'SAIL', 'ENV', 'MSP', 'FN', 'TSEM', 'AYX', 'WNS', 'SQSP', 'MNDT', 'KNBE', 'PRFT', 'TTEC', 'CALX', 'ALRM', 'DUOL', 'KD', 'BOX', 'VIAV', 'DCT', 'ACIW', 'COMP', 'BLKB', 'AVT', 'SONO', 'CXM', 'NVMI', 'CWAN', 'KLIC', 'SPWR', 'ESMT', 'NSIT', 'VZIO', 'FLYW', 'EVTC', 'KC', 'PWSC', 'AI', 'OLO', 'VRNT', 'TUYA', 'VSAT', 'PAY', 'RELY', 'FORM', 'ETWO', 'EVCM', 'RAMP', 'SIMO', 'CVLT', 'VMEO', 'MNTV', 'PD', 'RMBS', 'IONQ', 'NOVA', 'AVDX', 'VSH', 'EXFY', 'MANT', 'FROG', 'DQ', 'ITRI', 'RXT', 'CRNC', 'ACVA', 'DDD', 'STEM', 'LPSN', 'SEMR', 'EPAY', 'SABR', 'PLXS', 'SANM', 'ZUO', 'NTCT', 'CD', 'UCTT', 'ESE', 'SATS', 'VCRA', 'SWI', 'COMM', 'WBX', 'DCBO', 'VTEX', 'SMCI', 'ACLS', 'NABL', 'KN', 'JKS', 'PRGS', 'HIMX', 'YOU', 'MAXR', 'CRSR', 'PI', 'LAW', 'XPER', 'EGHT', 'CYXT', 'INFN', 'STER', 'SMRT', 'SPNS', 'API', 'PING', 'CSIQ', 'CSGS', 'BAND', 'EXTR', 'FORTY', 'FORG', 'VCSA', 'BLND', 'COHU', 'ALKT', 'RDWR', 'MLNK', 'MLAB', 'MEI', 'CLBT', 'CINT', 'WKME', 'OSIS', 'GPRO', 'AVYA', 'SUMO', 'DM', 'PRO', 'ZETA', 'EB', 'SSYS', 'TTMI', 'SNPO', 'SGH', 'INTA', 'MTLS', 'SCWX', 'YEXT', 'VLD', 'PAR', 'PLUS', 'VECO', 'AOSL', 'CLS', 'UIS', 'RSKD', 'USER', 'FARO', 'IMOS', 'VNET', 'BBAI', 'BTRS', 'GB', 'CGNT', 'ENFN', 'ATEN', 'POLY', 'ICHR', 'AVPT', 'AUDC', 'CNXN', 'HLIT', 'CCSI', 'CTS', 'PDFS', 'AGYS', 'LTCH', 'MGIC', 'PLAB', 'MODN', 'LASR', 'ADTN', 'GSKY', 'BASE', 'CEVA', 'OUST', 'EBIX', 'INST', 'WEAV', 'YALA', 'NTGR', 'BHE', 'MX', 'AMSWA', 'DGII', 'SCSC', 'NPTN', 'ONTF', 'VLN', 'LYLT', 'DMRC', 'ECOM', 'DBD', 'RKLY', 'MAXN', 'BKSY', 'INSG', 'CMTL', 'SWIR', 'HCKT', 'ITRN', 'CTLP', 'UEIC', 'LVOX', 'WEJO', 'BKKT', 'BTCM', 'ZIXI', 'VPG', 'QIWI', 'IIIV', 'ABST', 'GILT', 'MAPS', 'SOL', 'BCOV', 'ALLT', 'TSAT', 'TUFN', 'INS', 'AVNW', 'CAMP', 'AXTI', 'SILC', 'UEPS', 'MIXT', 'MYNA', 'VOXX', 'IMMR', 'LYTS', 'KVHI', 'VIAO', 'BELFA', 'BELFB', 'RELL', 'CTG', 'ASYS', 'DSP', 'PCTI', 'TESS', 'MINDP', 'SANG', 'LVOXU', 'SABRP', 'IIVIP', 'IOT', 'CLVT-PA', 'AVGOP']\n"
          ]
        },
        {
          "output_type": "execute_result",
          "data": {
            "text/plain": [
              "505"
            ]
          },
          "metadata": {},
          "execution_count": 2
        }
      ]
    },
    {
      "cell_type": "code",
      "source": [
        "for x in L_st_symb :\n",
        "  url = 'https://finance.yahoo.com/quote/'+ stockSymbol + '/key-statistics?p=' + stockSymbol\n",
        "  page = requests.get(url, headers=headers, timeout=5).text \n",
        "  soup = BeautifulSoup(page, 'html.parser')\n",
        "  stock_data = soup.find_all('table')\n",
        "  #print(stock_data[0])\n",
        "  stockDict = {}\n",
        "\n",
        "for table in stock_data:\n",
        "    trs = table.find_all('tr')\n",
        "    for tr in trs:\n",
        "        tds = tr.find_all('td')\n",
        "        if len(tds) > 0:\n",
        "            stockDict[tds[0].get_text()] = [tds[1].get_text()]\n",
        "\n",
        "stock_sum_df = pd.DataFrame(data=stockDict)\n"
      ],
      "metadata": {
        "id": "q0zpVQDNj4CC"
      },
      "execution_count": null,
      "outputs": []
    },
    {
      "cell_type": "code",
      "source": [
        "  k = 0\n",
        "  L=[]\n",
        "  for stockSymbol in L_st_symb :\n",
        "    url = 'https://finance.yahoo.com/quote/'+ stockSymbol + '/key-statistics?p=' + stockSymbol\n",
        "    page = requests.get(url, headers=headers, timeout=120).text \n",
        "    soup = BeautifulSoup(page, 'html.parser')\n",
        "    stock_data = soup.find_all('table')\n",
        "    stockDict = {}\n",
        "    list_df = []\n",
        "    \n",
        "\n",
        "    for table in stock_data:\n",
        "        trs = table.find_all('tr')\n",
        "        for tr in trs:\n",
        "            tds = tr.find_all('td')\n",
        "            if len(tds) > 0:\n",
        "                stockDict[tds[0].get_text()] = [tds[1].get_text()]\n",
        "    k+=1\n",
        "    L.append(pd.DataFrame(data=stockDict))\n",
        "    print(k)\n",
        "\n",
        "len(L)"
      ],
      "metadata": {
        "id": "SG_kNo9iuC3n"
      },
      "execution_count": null,
      "outputs": []
    },
    {
      "cell_type": "code",
      "source": [
        "final_df = pd.concat(L)\n",
        "final_df.head()"
      ],
      "metadata": {
        "id": "vuPuVl-xIrzW"
      },
      "execution_count": null,
      "outputs": []
    },
    {
      "cell_type": "code",
      "source": [
        "final_df.iloc[1]"
      ],
      "metadata": {
        "id": "f2AcvNMNI8T3"
      },
      "execution_count": null,
      "outputs": []
    },
    {
      "cell_type": "code",
      "source": [
        "new_df = final_df.set_axis(L_st_symb, axis=0,inplace=False)\n",
        "new_df"
      ],
      "metadata": {
        "id": "e-wwSndVKM_b"
      },
      "execution_count": null,
      "outputs": []
    },
    {
      "cell_type": "code",
      "source": [
        "\"\"\"from IPython.display import FileLink, FileLinks\n",
        "\n",
        "new_df.to_csv(r'C:\\Users\\verde\\Documents\\donnees_python.csv')\n",
        "new_df.to_excel(r'C:\\Users\\verde\\Documents\\donnees_python.xlsx')\n",
        "\n",
        "FileLinks('C:\\\\Users\\\\verde\\\\Documents')"
      ],
      "metadata": {
        "colab": {
          "base_uri": "https://localhost:8080/",
          "height": 35
        },
        "id": "sSyRKQC0KqWF",
        "outputId": "b207e051-dc7f-43aa-eebc-634e3179f07c"
      },
      "execution_count": null,
      "outputs": [
        {
          "output_type": "execute_result",
          "data": {
            "text/html": [
              "Path (<tt>C:\\Users\\verde\\Documents</tt>) doesn't exist. It may still be in the process of being generated, or you may have the incorrect path."
            ],
            "text/plain": [
              ""
            ]
          },
          "metadata": {},
          "execution_count": 31
        }
      ]
    },
    {
      "cell_type": "code",
      "source": [
        "from google.colab import files\n",
        "\n",
        "new_df.to_csv('donnees_python.csv') \n",
        "files.download('donnees_python.csv')"
      ],
      "metadata": {
        "colab": {
          "base_uri": "https://localhost:8080/",
          "height": 17
        },
        "id": "uFgMgO1BRtMD",
        "outputId": "0e806938-e9ac-45bd-fb02-85388614998f"
      },
      "execution_count": null,
      "outputs": [
        {
          "output_type": "display_data",
          "data": {
            "application/javascript": [
              "\n",
              "    async function download(id, filename, size) {\n",
              "      if (!google.colab.kernel.accessAllowed) {\n",
              "        return;\n",
              "      }\n",
              "      const div = document.createElement('div');\n",
              "      const label = document.createElement('label');\n",
              "      label.textContent = `Downloading \"${filename}\": `;\n",
              "      div.appendChild(label);\n",
              "      const progress = document.createElement('progress');\n",
              "      progress.max = size;\n",
              "      div.appendChild(progress);\n",
              "      document.body.appendChild(div);\n",
              "\n",
              "      const buffers = [];\n",
              "      let downloaded = 0;\n",
              "\n",
              "      const channel = await google.colab.kernel.comms.open(id);\n",
              "      // Send a message to notify the kernel that we're ready.\n",
              "      channel.send({})\n",
              "\n",
              "      for await (const message of channel.messages) {\n",
              "        // Send a message to notify the kernel that we're ready.\n",
              "        channel.send({})\n",
              "        if (message.buffers) {\n",
              "          for (const buffer of message.buffers) {\n",
              "            buffers.push(buffer);\n",
              "            downloaded += buffer.byteLength;\n",
              "            progress.value = downloaded;\n",
              "          }\n",
              "        }\n",
              "      }\n",
              "      const blob = new Blob(buffers, {type: 'application/binary'});\n",
              "      const a = document.createElement('a');\n",
              "      a.href = window.URL.createObjectURL(blob);\n",
              "      a.download = filename;\n",
              "      div.appendChild(a);\n",
              "      a.click();\n",
              "      div.remove();\n",
              "    }\n",
              "  "
            ],
            "text/plain": [
              "<IPython.core.display.Javascript object>"
            ]
          },
          "metadata": {}
        },
        {
          "output_type": "display_data",
          "data": {
            "application/javascript": [
              "download(\"download_11c6121b-9c6f-4768-9929-128036de3d54\", \"donnees_python.csv\", 222645)"
            ],
            "text/plain": [
              "<IPython.core.display.Javascript object>"
            ]
          },
          "metadata": {}
        }
      ]
    },
    {
      "cell_type": "code",
      "source": [
        "new_df.to_excel('donnees_python.xlsx') \n",
        "files.download('donnees_python.xlsx')"
      ],
      "metadata": {
        "colab": {
          "base_uri": "https://localhost:8080/",
          "height": 17
        },
        "id": "mXgKTAbCR57O",
        "outputId": "0370cc16-59fd-4aab-a900-08f796be74b2"
      },
      "execution_count": null,
      "outputs": [
        {
          "output_type": "display_data",
          "data": {
            "application/javascript": [
              "\n",
              "    async function download(id, filename, size) {\n",
              "      if (!google.colab.kernel.accessAllowed) {\n",
              "        return;\n",
              "      }\n",
              "      const div = document.createElement('div');\n",
              "      const label = document.createElement('label');\n",
              "      label.textContent = `Downloading \"${filename}\": `;\n",
              "      div.appendChild(label);\n",
              "      const progress = document.createElement('progress');\n",
              "      progress.max = size;\n",
              "      div.appendChild(progress);\n",
              "      document.body.appendChild(div);\n",
              "\n",
              "      const buffers = [];\n",
              "      let downloaded = 0;\n",
              "\n",
              "      const channel = await google.colab.kernel.comms.open(id);\n",
              "      // Send a message to notify the kernel that we're ready.\n",
              "      channel.send({})\n",
              "\n",
              "      for await (const message of channel.messages) {\n",
              "        // Send a message to notify the kernel that we're ready.\n",
              "        channel.send({})\n",
              "        if (message.buffers) {\n",
              "          for (const buffer of message.buffers) {\n",
              "            buffers.push(buffer);\n",
              "            downloaded += buffer.byteLength;\n",
              "            progress.value = downloaded;\n",
              "          }\n",
              "        }\n",
              "      }\n",
              "      const blob = new Blob(buffers, {type: 'application/binary'});\n",
              "      const a = document.createElement('a');\n",
              "      a.href = window.URL.createObjectURL(blob);\n",
              "      a.download = filename;\n",
              "      div.appendChild(a);\n",
              "      a.click();\n",
              "      div.remove();\n",
              "    }\n",
              "  "
            ],
            "text/plain": [
              "<IPython.core.display.Javascript object>"
            ]
          },
          "metadata": {}
        },
        {
          "output_type": "display_data",
          "data": {
            "application/javascript": [
              "download(\"download_4387a0c7-7113-4f38-8cf5-f5e9ac2a0836\", \"donnees_python.xlsx\", 284495)"
            ],
            "text/plain": [
              "<IPython.core.display.Javascript object>"
            ]
          },
          "metadata": {}
        }
      ]
    }
  ]
}