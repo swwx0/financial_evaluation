{
  "cells": [
    {
      "cell_type": "markdown",
      "metadata": {
        "id": "view-in-github",
        "colab_type": "text"
      },
      "source": [
        "<a href=\"https://colab.research.google.com/github/swwx0/financial_evaluation/blob/main/TrailingPE_ForwardPE.ipynb\" target=\"_parent\"><img src=\"https://colab.research.google.com/assets/colab-badge.svg\" alt=\"Open In Colab\"/></a>"
      ]
    },
    {
      "cell_type": "code",
      "execution_count": null,
      "metadata": {
        "id": "VWgNOzJGpdyo"
      },
      "outputs": [],
      "source": [
        "import pandas_datareader.data as web\n",
        "import pandas as pd\n",
        "import numpy as np\n",
        "import plotly.express as px\n",
        "import plotly.graph_objects as go\n",
        "import math\n",
        "import glob\n",
        "import os\n",
        "from sklearn.preprocessing import MinMaxScaler\n",
        "import unidecode\n",
        "from sklearn.preprocessing import minmax_scale\n",
        "import requests\n",
        "from datetime import datetime, timedelta\n",
        "import seaborn as sns\n",
        "import matplotlib.pyplot as plt\n",
        "import csv"
      ]
    },
    {
      "cell_type": "code",
      "execution_count": null,
      "metadata": {
        "id": "v5T4voBxpdyw"
      },
      "outputs": [],
      "source": [
        "data0= pd.read_excel(r\"H:\\Documents\\ENSAE\\1er semestre 2a\\Python DS\\projet\\donnees_python.xlsx\")\n",
        "print(data0)"
      ]
    },
    {
      "cell_type": "code",
      "execution_count": null,
      "metadata": {
        "id": "kJ_lU8wNpdy1"
      },
      "outputs": [],
      "source": [
        "data = data0.copy()"
      ]
    },
    {
      "cell_type": "code",
      "execution_count": null,
      "metadata": {
        "id": "y_Ad95Gupdy4"
      },
      "outputs": [],
      "source": [
        "data.columns"
      ]
    },
    {
      "cell_type": "code",
      "execution_count": null,
      "metadata": {
        "scrolled": true,
        "id": "7_dYP8qNpdy7"
      },
      "outputs": [],
      "source": [
        "data.iloc[31,:]"
      ]
    },
    {
      "cell_type": "code",
      "execution_count": null,
      "metadata": {
        "id": "KsuXU_QVpdy9"
      },
      "outputs": [],
      "source": [
        "for c in data.columns :\n",
        "    if \"Short\" in c :\n",
        "        del data[c]"
      ]
    },
    {
      "cell_type": "code",
      "execution_count": null,
      "metadata": {
        "id": "ZYFQDEpkpdy_"
      },
      "outputs": [],
      "source": [
        "data"
      ]
    },
    {
      "cell_type": "code",
      "execution_count": null,
      "metadata": {
        "id": "7MW_56ozpdzC"
      },
      "outputs": [],
      "source": [
        "print(data)"
      ]
    },
    {
      "cell_type": "code",
      "execution_count": null,
      "metadata": {
        "scrolled": true,
        "id": "ZRWikwp-pdzF"
      },
      "outputs": [],
      "source": [
        "#regarder quelles sont les colonnes qu'il faudra modifier car leurs valeurs sont exprimés avec des B (pour milliatrd) ou des M (pour million)\n",
        "for c in data.columns :\n",
        "    try :\n",
        "        data[c] = data[c].map(lambda x : float(str(x).replace(\"k\",\"\")))\n",
        "    except :\n",
        "        print(\"colonne pas utilisable \", c)"
      ]
    },
    {
      "cell_type": "code",
      "execution_count": null,
      "metadata": {
        "id": "7ZNt3gilpdzJ"
      },
      "outputs": [],
      "source": [
        "c = \"Total Cash (mrq)\""
      ]
    },
    {
      "cell_type": "code",
      "execution_count": null,
      "metadata": {
        "id": "lk0Dwd5VpdzL"
      },
      "outputs": [],
      "source": [
        "data[c] = np.where(data[c].str.contains(\"M\"),data[c].map(lambda x : 1000000*float(str(x).replace(\"M\",\"\")) if (\"M\" in str(x)) else x),data[c])\n",
        "data[c] = np.where(data[c].str.contains(\"B\"),data[c].map(lambda x : 1000000000*float(str(x).replace(\"B\",\"\")) if (\"B\" in str(x)) else x),data[c])"
      ]
    },
    {
      "cell_type": "code",
      "execution_count": null,
      "metadata": {
        "id": "K1qR91ZupdzN"
      },
      "outputs": [],
      "source": [
        "data.head(32)"
      ]
    },
    {
      "cell_type": "code",
      "execution_count": null,
      "metadata": {
        "id": "uDagkA7TpdzP"
      },
      "outputs": [],
      "source": [
        "# Remplacer 2.80k par 2.80 dans la colonne Trailing PE ligne 31 (erreur de Yahoo Finance)\n",
        "data['Trailing P/E '] = data['Trailing P/E '].replace(\"2.80k\",\"2.80\")"
      ]
    },
    {
      "cell_type": "code",
      "execution_count": null,
      "metadata": {
        "id": "hi7kCYH-pdzR"
      },
      "outputs": [],
      "source": [
        "PEdf=data[['Trailing P/E ', 'Symbol']]\n",
        "print(PEdf)\n",
        "PEdf = PEdf[~PEdf['Trailing P/E '].isna()]\n",
        "print(PEdf)\n",
        "print(PEdf.sort_values(by=[ 'Trailing P/E ', 'Symbol'], ascending=True))\n",
        "#attention : un P/E négatif est mauvais signe donc LYFT ne peut pas être considéré comme prometteur avec cette analyse"
      ]
    },
    {
      "cell_type": "code",
      "execution_count": null,
      "metadata": {
        "id": "opnktpPXpdzT",
        "outputId": "ae6c1d5b-0470-4289-cfed-df2852087578"
      },
      "outputs": [
        {
          "data": {
            "text/plain": [
              "59.03535211267606"
            ]
          },
          "execution_count": 234,
          "metadata": {},
          "output_type": "execute_result"
        }
      ],
      "source": [
        "PEdf['Trailing P/E '].mean()\n",
        "# The companies prefered with this criteria are those with a Trailing P/E value <=59"
      ]
    },
    {
      "cell_type": "code",
      "execution_count": null,
      "metadata": {
        "id": "HHXBIuyJpdzV"
      },
      "outputs": [],
      "source": [
        "#it’s a good sign that the forward P/E is lower than the trailing P/E, because that indicates this company’s earning is likely increase next year.\n",
        "PEFdf=data[['Forward P/E ', 'Symbol']]\n",
        "print(PEFdf)\n",
        "PEFdf = PEFdf[~PEFdf['Forward P/E '].isna()]\n",
        "print(PEFdf)"
      ]
    },
    {
      "cell_type": "code",
      "execution_count": null,
      "metadata": {
        "id": "-bybxbRjpdzX"
      },
      "outputs": [],
      "source": [
        "#fusion de PEdf et PEFdf pour comparer si forward P/E < trailing P/E et rester avec l'ordre de PEdf\n",
        "PEfusion=pd.merge(PEdf,PEFdf,how=\"left\",on=\"Symbol\")\n",
        "PEfusion"
      ]
    },
    {
      "cell_type": "code",
      "execution_count": null,
      "metadata": {
        "id": "Cvh_FtDOpdzY"
      },
      "outputs": [],
      "source": [
        "PEfusion =PEfusion.sort_values(by=['Trailing P/E '])\n"
      ]
    },
    {
      "cell_type": "code",
      "execution_count": null,
      "metadata": {
        "id": "8-rswK9xpdzZ"
      },
      "outputs": [],
      "source": [
        "PEfusion = PEfusion[~PEfusion['Forward P/E '].isna()]\n",
        "print(PEfusion)"
      ]
    },
    {
      "cell_type": "code",
      "execution_count": null,
      "metadata": {
        "id": "qtqv71rvpdzb"
      },
      "outputs": [],
      "source": [
        "np.where(PEfusion['Trailing P/E ']>PEfusion['Forward P/E '], True, False)"
      ]
    },
    {
      "cell_type": "code",
      "execution_count": null,
      "metadata": {
        "id": "subd44Obpdzc"
      },
      "outputs": [],
      "source": [
        "PEfusion['conditionT/F']=np.where(PEfusion['Trailing P/E ']>PEfusion['Forward P/E '], True, False)"
      ]
    },
    {
      "cell_type": "code",
      "execution_count": null,
      "metadata": {
        "id": "m5Jg5MnQpdzd"
      },
      "outputs": [],
      "source": [
        "PEfusion"
      ]
    },
    {
      "cell_type": "code",
      "execution_count": null,
      "metadata": {
        "id": "ZvAQSwQ1pdzd"
      },
      "outputs": [],
      "source": [
        "PEfusion['conditionmoyPET']=np.where(PEfusion['Trailing P/E ']<=59, True, False)"
      ]
    },
    {
      "cell_type": "code",
      "execution_count": null,
      "metadata": {
        "id": "Ou15Xjv_pdze"
      },
      "outputs": [],
      "source": [
        "PEfusion"
      ]
    },
    {
      "cell_type": "code",
      "execution_count": null,
      "metadata": {
        "id": "Lj327s6Vpdzf"
      },
      "outputs": [],
      "source": [
        "PEfusion[(PEfusion['conditionT/F'] == True) & (PEfusion['conditionmoyPET'] ==True)]\n",
        "\n",
        "#on obtient notre df avec toutes les entreprises qui vérifient les 2 conditions avantageuses, les premières étant les meilleures selon condition 1 (cf analyse Trailing P/E)"
      ]
    },
    {
      "cell_type": "code",
      "execution_count": null,
      "metadata": {
        "id": "FcxA3JOlpdzg"
      },
      "outputs": [],
      "source": [
        "#PEG Ratio (5 yr expected) \n",
        "# When you compare two companies in the same industry using PEG PEG Ratio (5 yr expected) , simply put, the one with a lower value looks more attractive.\n",
        "# Some investor believes that positive PEG Ratio (5 yr expected) lower than 1 are attractive (suggesting that stock is undervalued) and a PEG Ratio (5 yr expected)  of 2 or more indicates a stock is overvalued.\n",
        "#colonne : 'PEG Ratio (5 yr expected) '\n",
        "\n",
        "dfPEG=data[['PEG Ratio (5 yr expected) ', 'Symbol']]\n",
        "print(dfPEG)\n",
        "dfPEG = dfPEG[~dfPEG['PEG Ratio (5 yr expected) '].isna()]\n",
        "print(dfPEG)\n",
        "dfPEG=dfPEG.sort_values(by=[ 'PEG Ratio (5 yr expected) ', 'Symbol'], ascending=True)"
      ]
    },
    {
      "cell_type": "code",
      "execution_count": null,
      "metadata": {
        "id": "llWP-MFSpdzg"
      },
      "outputs": [],
      "source": [
        "dfPEG['valeur<1']= np.where(dfPEG['PEG Ratio (5 yr expected) ']<1, True, False)"
      ]
    },
    {
      "cell_type": "code",
      "execution_count": null,
      "metadata": {
        "id": "kOgw_zJlpdzh"
      },
      "outputs": [],
      "source": [
        "dfPEG"
      ]
    },
    {
      "cell_type": "code",
      "execution_count": null,
      "metadata": {
        "id": "MKuPA2NVpdzi"
      },
      "outputs": [],
      "source": [
        "#P/S\n",
        "#Many investors trust the P/S (Price/Sales) ratio more than the P/E (Price/Earning) ratio because unlike the earning number, the sales (revenue) number is less likely to be manipulated using accounting estimates and management manipulations.\n",
        "#Generally speaking, when comparing two companies in the same industry, the one with a lower P/S ratio looks more attractive.\n"
      ]
    }
  ],
  "metadata": {
    "kernelspec": {
      "display_name": "Python 3",
      "language": "python",
      "name": "python3"
    },
    "language_info": {
      "codemirror_mode": {
        "name": "ipython",
        "version": 3
      },
      "file_extension": ".py",
      "mimetype": "text/x-python",
      "name": "python",
      "nbconvert_exporter": "python",
      "pygments_lexer": "ipython3",
      "version": "3.7.1"
    },
    "colab": {
      "name": "Projet Python DS.ipynb",
      "provenance": [],
      "include_colab_link": true
    }
  },
  "nbformat": 4,
  "nbformat_minor": 0
}